{
 "cells": [
  {
   "cell_type": "code",
   "execution_count": 4,
   "metadata": {},
   "outputs": [],
   "source": [
    "import jieba.analyse\n",
    "import xlwings as xw\n",
    "\n",
    "wb = xw.Book('weibo_clean.xls')\n",
    "shts = wb.sheets\n",
    "\n",
    "# we divide the posts into 5 periods: 12/20 - 1/22, 1/23 - 2/18, 2/19 - 3/11, 3/12 - 4/7, 4/8 - 4/30\n",
    "p1, p2, p3, p4, p5 = [], [], [], [], []\n",
    "all_P = []\n",
    "for sht in shts:\n",
    "    date = sht.name\n",
    "    posts = sht.range('A1').expand('down').value\n",
    "    all_P.append(posts)\n",
    "for p in all_P[:34]:\n",
    "    p1 += p\n",
    "for p in all_P[34:61]:\n",
    "    p2 += p\n",
    "for p in all_P[61:83]:\n",
    "    p3 += p\n",
    "for p in all_P[83:110]:\n",
    "    p4 += p\n",
    "for p in all_P[110:132]:\n",
    "    p5 += p\n"
   ]
  },
  {
   "cell_type": "code",
   "execution_count": 32,
   "metadata": {},
   "outputs": [
    {
     "name": "stdout",
     "output_type": "stream",
     "text": [
      "The 5 topics in period 1:\n",
      "(0, '0.385*\"保护\" + 0.324*\"注意\" + 0.083*\"可怕\" + 0.014*\"谢谢\" + 0.009*\"扩散\" + 0.008*\"潜伏期\"')\n",
      "(1, '0.145*\"保护\" + 0.051*\"注意\" + 0.042*\"扩散\" + 0.033*\"可怕\" + 0.029*\"正常\" + 0.014*\"病毒\"')\n",
      "(2, '0.931*\"注意\" + 0.010*\"N95\" + 0.002*\"口罩\" + 0.002*\"保护\" + 0.001*\"肺炎\" + 0.001*\"武汉\"')\n",
      "(3, '0.113*\"注意\" + 0.035*\"年\" + 0.030*\"保护\" + 0.025*\"肺炎\" + 0.019*\"hands\" + 0.019*\"folded\"')\n",
      "(4, '0.981*\"注意安全\" + 0.005*\"保护\" + 0.003*\"扩散\" + 0.001*\"肺炎\" + 0.000*\"年\" + 0.000*\"例\"')\n",
      "The 5 topics in period 2:\n",
      "(0, '0.433*\"平安\" + 0.022*\"武汉\" + 0.021*\"保护\" + 0.016*\"情况\" + 0.011*\"注意\" + 0.008*\"说\"')\n",
      "(1, '0.552*\"平安\" + 0.203*\"辛苦\" + 0.155*\"保护\" + 0.007*\"武汉\" + 0.005*\"hands\" + 0.005*\"folded\"')\n",
      "(2, '0.240*\"信\" + 0.051*\"保护\" + 0.026*\"武汉\" + 0.018*\"注意\" + 0.016*\"情况\" + 0.014*\"口罩\"')\n",
      "(3, '0.764*\"天呐\" + 0.052*\"平安\" + 0.026*\"保护\" + 0.019*\"情况\" + 0.012*\"武汉\" + 0.005*\"肺炎\"')\n",
      "(4, '0.125*\"平安\" + 0.063*\"肺炎\" + 0.062*\"武汉\" + 0.055*\"例\" + 0.044*\"情况\" + 0.016*\"日\"')\n"
     ]
    }
   ],
   "source": [
    "from gensim import corpora, models\n",
    "\n",
    "stop_words = [' ', '…', '转发', ':', '.', '冠状病毒', '新型', 'Repost', '（', 'O']\n",
    "with open('cn_stopwords.txt', 'r') as f:\n",
    "    for line in f:\n",
    "        stop_words.append(line.strip())\n",
    "        \n",
    "def topic_model(text):\n",
    "    words_ls = []\n",
    "    for p in p1:\n",
    "        if p:\n",
    "            words = [w for w in jieba.cut(p) if w not in stop_words]\n",
    "            words_ls.append(words)\n",
    "\n",
    "    dictionary = corpora.Dictionary(words_ls)\n",
    "    corpus = [dictionary.doc2bow(words) for words in words_ls]\n",
    "    lda = models.ldamodel.LdaModel(corpus=corpus, id2word=dictionary, num_topics=5)\n",
    "    for topic in lda.print_topics(num_words=6):\n",
    "        print(topic)\n",
    "        \n",
    "for i, each in enumerate([[p1 + p2 + p3], [p4 + p5]]):\n",
    "    print('The 5 topics in period %s:' % str(i+1))\n",
    "    topic_model(each)\n"
   ]
  },
  {
   "cell_type": "code",
   "execution_count": null,
   "metadata": {},
   "outputs": [],
   "source": []
  }
 ],
 "metadata": {
  "kernelspec": {
   "display_name": "Python 3",
   "language": "python",
   "name": "python3"
  },
  "language_info": {
   "codemirror_mode": {
    "name": "ipython",
    "version": 3
   },
   "file_extension": ".py",
   "mimetype": "text/x-python",
   "name": "python",
   "nbconvert_exporter": "python",
   "pygments_lexer": "ipython3",
   "version": "3.6.8"
  }
 },
 "nbformat": 4,
 "nbformat_minor": 2
}
