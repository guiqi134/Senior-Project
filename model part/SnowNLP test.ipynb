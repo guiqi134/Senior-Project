{
 "cells": [
  {
   "cell_type": "code",
   "execution_count": 3,
   "metadata": {},
   "outputs": [
    {
     "name": "stdout",
     "output_type": "stream",
     "text": [
      "Negative: 0.540000, Neutral: 0.090000, Positive: 0.530000, Total: 0.386667\n"
     ]
    }
   ],
   "source": [
    "from snownlp import SnowNLP\n",
    "import pandas as pd\n",
    "\n",
    "l_neg = pd.read_excel('snowNLP_testset.xlsx', 'Negative')['微博内容'].values\n",
    "l_neu = pd.read_excel('snowNLP_testset.xlsx', 'Neutral')['微博内容'].values\n",
    "l_pos = pd.read_excel('snowNLP_testset.xlsx', 'Positive')['微博内容'].values\n",
    "\n",
    "predict_neg = []\n",
    "predict_neu = []\n",
    "predict_pos = []\n",
    "\n",
    "for i in range(0, len(l_neg)):\n",
    "    s_neg = SnowNLP(l_neg[i])\n",
    "    s_neu = SnowNLP(l_neu[i])\n",
    "    s_pos = SnowNLP(l_pos[i])\n",
    "    predict_neg.append(narrow(s_neg.sentiments))\n",
    "    predict_neu.append(narrow(s_neu.sentiments))\n",
    "    predict_pos.append(narrow(s_pos.sentiments))\n",
    "\n",
    "TP_neg_cnt = float(predict_neg.count(-1))\n",
    "TP_neu_cnt = float(predict_neu.count(0))\n",
    "TP_pos_cnt = float(predict_pos.count(1))\n",
    "acc_neg = TP_neg_cnt / 100.0\n",
    "acc_neu = TP_neu_cnt / 100.0\n",
    "acc_pos = TP_pos_cnt / 100.0\n",
    "acc_all = (TP_neg_cnt + TP_neu_cnt + TP_pos_cnt) / 300.0\n",
    "\n",
    "print('Negative: %f, Neutral: %f, Positive: %f, Total: %f' % (acc_neg, acc_neu, acc_pos, acc_all))\n",
    "\n"
   ]
  },
  {
   "cell_type": "code",
   "execution_count": 2,
   "metadata": {},
   "outputs": [],
   "source": [
    "def narrow(value):\n",
    "    if value < 0.4:\n",
    "        return -1\n",
    "    elif 0.4 <= value <= 0.6:\n",
    "        return 0\n",
    "    else:\n",
    "        return 1"
   ]
  },
  {
   "cell_type": "code",
   "execution_count": 22,
   "metadata": {},
   "outputs": [
    {
     "name": "stdout",
     "output_type": "stream",
     "text": [
      "[[54  5 41]\n",
      " [42  9 49]\n",
      " [31 16 53]]\n"
     ]
    }
   ],
   "source": [
    "from sklearn.metrics import confusion_matrix\n",
    "\n",
    "y_true = [-1 for x in range(100)] + [0 for x in range(100)] + [1 for x in range(100)]\n",
    "y_pred = predict_neg + predict_neu + predict_pos\n",
    "\n",
    "conf = confusion_matrix(y_true, y_pred, labels=[-1, 0, 1])\n",
    "print(conf)\n",
    "\n",
    "comments = list(l_neg) + list(l_neu) + list(l_pos)\n",
    "d = {'Comments': comments, 'y_true': y_true, 'y_predict': y_pred}\n",
    "df = pd.DataFrame(data=d)\n",
    "df.to_excel('snowNLP_testset.xlsx', sheet_name='Total')"
   ]
  },
  {
   "cell_type": "code",
   "execution_count": null,
   "metadata": {},
   "outputs": [],
   "source": []
  }
 ],
 "metadata": {
  "kernelspec": {
   "display_name": "Python 3",
   "language": "python",
   "name": "python3"
  },
  "language_info": {
   "codemirror_mode": {
    "name": "ipython",
    "version": 3
   },
   "file_extension": ".py",
   "mimetype": "text/x-python",
   "name": "python",
   "nbconvert_exporter": "python",
   "pygments_lexer": "ipython3",
   "version": "3.6.8"
  }
 },
 "nbformat": 4,
 "nbformat_minor": 2
}
