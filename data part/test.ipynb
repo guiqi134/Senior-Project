{
 "cells": [
  {
   "cell_type": "code",
   "execution_count": 23,
   "metadata": {},
   "outputs": [
    {
     "name": "stdout",
     "output_type": "stream",
     "text": [
      "processing day: 2019-12-20\n",
      "processing day: 2019-12-21\n",
      "processing day: 2019-12-22\n",
      "processing day: 2019-12-23\n",
      "processing day: 2019-12-24\n",
      "processing day: 2019-12-25\n",
      "processing day: 2019-12-26\n",
      "processing day: 2019-12-27\n",
      "processing day: 2019-12-28\n",
      "processing day: 2019-12-29\n",
      "processing day: 2019-12-30\n",
      "processing day: 2019-12-31\n",
      "processing day: 2020-01-01\n",
      "processing day: 2020-01-02\n",
      "processing day: 2020-01-03\n",
      "processing day: 2020-01-04\n",
      "processing day: 2020-01-05\n",
      "processing day: 2020-01-06\n",
      "processing day: 2020-01-07\n",
      "processing day: 2020-01-08\n",
      "processing day: 2020-01-09\n",
      "processing day: 2020-01-10\n",
      "processing day: 2020-01-11\n",
      "processing day: 2020-01-12\n",
      "processing day: 2020-01-13\n",
      "processing day: 2020-01-14\n",
      "processing day: 2020-01-15\n",
      "processing day: 2020-01-16\n",
      "processing day: 2020-01-17\n",
      "processing day: 2020-01-18\n",
      "processing day: 2020-01-19\n",
      "processing day: 2020-01-20\n",
      "processing day: 2020-01-21\n",
      "processing day: 2020-01-22\n",
      "processing day: 2020-01-23\n",
      "processing day: 2020-01-24\n",
      "processing day: 2020-01-25\n",
      "processing day: 2020-01-26\n",
      "processing day: 2020-01-27\n",
      "processing day: 2020-01-28\n",
      "processing day: 2020-01-29\n",
      "processing day: 2020-01-30\n",
      "processing day: 2020-01-31\n",
      "processing day: 2020-02-01\n",
      "processing day: 2020-02-02\n",
      "processing day: 2020-02-03\n",
      "processing day: 2020-02-04\n",
      "processing day: 2020-02-05\n",
      "processing day: 2020-02-06\n",
      "processing day: 2020-02-07\n",
      "processing day: 2020-02-08\n",
      "processing day: 2020-02-09\n",
      "processing day: 2020-02-10\n",
      "processing day: 2020-02-11\n",
      "processing day: 2020-02-12\n",
      "processing day: 2020-02-13\n",
      "processing day: 2020-02-14\n",
      "processing day: 2020-02-15\n"
     ]
    }
   ],
   "source": [
    "import pandas as pd\n",
    "import xlwings as xw\n",
    "import collections\n",
    "\n",
    "wb = xw.Book('冠状病毒2.xls')\n",
    "sheets = wb.sheets\n",
    "\n",
    "post_dict = {}\n",
    "for sheet in sheets:\n",
    "    posts = sheet.range('C2').expand('down').value\n",
    "    if type(posts) == str:\n",
    "        l = []\n",
    "        l.append(posts)\n",
    "        posts = l\n",
    "    post_dict[sheet.name] = posts\n",
    "wb.close()\n",
    "\n",
    "hours = list(post_dict.keys())[1:]\n",
    "values = list(post_dict.values())[1:]\n",
    "days = list(map(lambda x:x[:10], hours))\n",
    "rst = collections.Counter(days)\n",
    "rst = sorted(rst.items(), key=lambda item:item[0])\n",
    "combined_dict = {}\n",
    "cnt = 0\n",
    "\n",
    "for each in rst:\n",
    "    combined_dict[each[0]] = []\n",
    "    for post in values[cnt:cnt+each[1]]:\n",
    "        if post:\n",
    "            combined_dict[each[0]] += post\n",
    "    cnt += each[1]\n",
    "\n",
    "wb = xw.Book()\n",
    "for each in rst:\n",
    "    print('processing day: %s' % each[0])\n",
    "    sht = wb.sheets.add(name=each[0])\n",
    "    rng = sht.range('A1').options(transpose=True)\n",
    "    rng.value = combined_dict[each[0]]\n",
    "# wb.save('all_posts.xlsx')"
   ]
  },
  {
   "cell_type": "code",
   "execution_count": 24,
   "metadata": {},
   "outputs": [
    {
     "data": {
      "text/plain": [
       "530616"
      ]
     },
     "execution_count": 24,
     "metadata": {},
     "output_type": "execute_result"
    }
   ],
   "source": [
    "l = [len(x) for x in values if x]\n",
    "sum(l)"
   ]
  },
  {
   "cell_type": "code",
   "execution_count": 21,
   "metadata": {},
   "outputs": [
    {
     "data": {
      "text/plain": [
       "True"
      ]
     },
     "execution_count": 21,
     "metadata": {},
     "output_type": "execute_result"
    }
   ],
   "source": [
    "type('sss') == str"
   ]
  },
  {
   "cell_type": "code",
   "execution_count": 31,
   "metadata": {},
   "outputs": [
    {
     "name": "stdout",
     "output_type": "stream",
     "text": [
      "[('2019-01-20', 2), ('2019-12-20', 1), ('2020-01-16', 4), ('2020-02-10', 3)]\n"
     ]
    }
   ],
   "source": [
    "d = {'2020-01-16':4, '2019-12-20':1, '2019-01-20':2, '2020-02-10':3}\n",
    "rst = sorted(d.items(), key=lambda x:x[0])\n",
    "print(rst)"
   ]
  },
  {
   "cell_type": "code",
   "execution_count": 33,
   "metadata": {},
   "outputs": [
    {
     "data": {
      "text/plain": [
       "[1, 2, 3]"
      ]
     },
     "execution_count": 33,
     "metadata": {},
     "output_type": "execute_result"
    }
   ],
   "source": [
    "sorted([2,3,1], key = lambda x:x)"
   ]
  },
  {
   "cell_type": "code",
   "execution_count": null,
   "metadata": {},
   "outputs": [],
   "source": []
  }
 ],
 "metadata": {
  "kernelspec": {
   "display_name": "Python 3",
   "language": "python",
   "name": "python3"
  },
  "language_info": {
   "codemirror_mode": {
    "name": "ipython",
    "version": 3
   },
   "file_extension": ".py",
   "mimetype": "text/x-python",
   "name": "python",
   "nbconvert_exporter": "python",
   "pygments_lexer": "ipython3",
   "version": "3.6.8"
  }
 },
 "nbformat": 4,
 "nbformat_minor": 2
}
